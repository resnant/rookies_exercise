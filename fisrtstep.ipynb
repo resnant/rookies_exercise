{
 "cells": [
  {
   "cell_type": "markdown",
   "metadata": {},
   "source": [
    "今見えているのは Jupyter Notebook と呼ばれる、Pythonの対話型インタープリタを拡張した実行環境です。  \n",
    "対話的にデータを可視化したり、コードとその実行結果をノートブックとして残せるので、  \n",
    "データサイエンスをはじめとして非常に広く使われています。  \n",
    "\n",
    "はじめに覚えよう\n",
    " - セルの実行方法\n",
    "     - shift + Enterでセルを実行、次のセルに移動\n",
    "     - ctrl + Enterでセルを実行（セルは遷移しない）\n",
    " - ノートブックの保存\n",
    "     - ツールバーの保存ボタン（フロッピーのアイコン）\n",
    "     - ちなみにデフォルトでは2分毎に自動保存される\n",
    " - コードの補完\n",
    "     - 入力途中でTabキーを押すと、変数名などをいい感じに補完してくれる\n",
    " - ツールチップ（ヘルプ）の表示\n",
    "     - Shift + Tabキーを押すとホップアップでツールチップが出せる。Tabキーを2回押すと拡大できる\n",
    " - セルの選択について\n",
    "     - 編集モード：セル左端の帯が緑色の状態。中身が編集できる。Escキーで抜ける\n",
    "     - 選択モード：セル左端の帯が青色の状態。編集モードに移るにはEnterキー\n",
    " - セルの追加\n",
    "     - セル選択モードで、AキーまたはB（上または下に追加）\n",
    " - セルのコピペ\n",
    "     - セル選択モードで、C（コピー）→V（ペースト）。カットはX\n",
    " - アンドゥ：セル選択モードでZ\n",
    " - 実行中のコードの強制終了\n",
    "     - ツールバーの停止（四角いボタン）\n",
    " - Pythonカーネルの再起動\n",
    "     - ツールバーの再起動ボタン（更新ボタンみたいな）\n",
    "\n",
    "詳しい使い方は、ラボにある『PythonユーザのためのJupyter［実践］入門』を読んでください"
   ]
  },
  {
   "cell_type": "code",
   "execution_count": null,
   "metadata": {},
   "outputs": [],
   "source": [
    "import matplotlib\n",
    "import pandas"
   ]
  },
  {
   "cell_type": "markdown",
   "metadata": {},
   "source": [
    "# 実際にやってみよう"
   ]
  },
  {
   "cell_type": "code",
   "execution_count": null,
   "metadata": {},
   "outputs": [],
   "source": [
    "#まずはお作法のHello World\n",
    "print('Hello World')"
   ]
  },
  {
   "cell_type": "code",
   "execution_count": null,
   "metadata": {},
   "outputs": [],
   "source": [
    "#必要なライブラリを読み込む\n",
    "import math #数学向けの関数や定数の標準ライブラリ\n",
    "\n",
    "#matplotlibは高機能なグラフ描画ライブラリ。pyplotモジュールをよく使う。これをpltという名前で読み込むのが作法\n",
    "import matplotlib.pyplot as plt\n",
    "#図の出力先をinlineに指定することで、Jupyter Notebookの中でグラフを表示できる。\n",
    "%matplotlib inline\n",
    "\n",
    "#Pandasは様々なデータの読み込みやハンドリングを行うライブラリ。使いこなすと非常に便利。ぜひ覚えよう\n",
    "#DataFrame（Excelのような表）という形式でデータを取り扱う。簡単な統計処理やグラフ描画もできる。\n",
    "#これもpdという名前で読み込むのが通例\n",
    "import pandas as pd"
   ]
  },
  {
   "cell_type": "code",
   "execution_count": null,
   "metadata": {},
   "outputs": [],
   "source": [
    "#変数の定義はこんな感じ\n",
    "a = 1\n",
    "b = -10\n",
    "\n",
    "print(a+b)"
   ]
  },
  {
   "cell_type": "code",
   "execution_count": null,
   "metadata": {},
   "outputs": [],
   "source": [
    "print(math.pi)"
   ]
  },
  {
   "cell_type": "code",
   "execution_count": null,
   "metadata": {},
   "outputs": [],
   "source": [
    "def calc_square(x):\n",
    "    return x**2"
   ]
  },
  {
   "cell_type": "code",
   "execution_count": null,
   "metadata": {},
   "outputs": [],
   "source": [
    "calc_square(3)"
   ]
  },
  {
   "cell_type": "code",
   "execution_count": null,
   "metadata": {},
   "outputs": [],
   "source": [
    "def calc_power(x, a):\n",
    "    val = x**a\n",
    "    return val"
   ]
  },
  {
   "cell_type": "code",
   "execution_count": null,
   "metadata": {},
   "outputs": [],
   "source": [
    "x_val = []\n",
    "for i in range(-1000, 1000):\n",
    "    x_val.append(0.1 * i)"
   ]
  },
  {
   "cell_type": "code",
   "execution_count": null,
   "metadata": {},
   "outputs": [],
   "source": [
    "#リスト内包標記で書いてみる。↑の明示的なforループでも同じように書けるが、こちらのほうがちょっと速い\n",
    "y_val = [calc_power(i, 2) for i in x_val]"
   ]
  },
  {
   "cell_type": "code",
   "execution_count": null,
   "metadata": {},
   "outputs": [],
   "source": [
    "plt.plot(x_val, y_val)"
   ]
  },
  {
   "cell_type": "code",
   "execution_count": null,
   "metadata": {},
   "outputs": [],
   "source": [
    "x_val = [0.01 * math.pi * i for i in range(-100, 100)]\n",
    "y_val = [math.sin(i) for i in x_val]"
   ]
  },
  {
   "cell_type": "code",
   "execution_count": null,
   "metadata": {},
   "outputs": [],
   "source": [
    "plt.plot(x_val, y_val)"
   ]
  },
  {
   "cell_type": "markdown",
   "metadata": {},
   "source": [
    "# CSVデータ読み込みの例\n",
    "初心運転者（普通免許取得者）の交通事故状況（平成28年）  \n",
    "http://opendata-catalogue.metro.tokyo.jp/dataset/t000022d0000000027/resource/85139921-ae91-4b2a-b058-59fb27e920e7"
   ]
  },
  {
   "cell_type": "code",
   "execution_count": null,
   "metadata": {},
   "outputs": [],
   "source": [
    "pwd"
   ]
  },
  {
   "cell_type": "code",
   "execution_count": null,
   "metadata": {},
   "outputs": [],
   "source": [
    "data = pd.read_csv('futsu.csv')"
   ]
  },
  {
   "cell_type": "code",
   "execution_count": null,
   "metadata": {},
   "outputs": [],
   "source": [
    "data.head()"
   ]
  },
  {
   "cell_type": "code",
   "execution_count": null,
   "metadata": {},
   "outputs": [],
   "source": [
    "plt.hist(data['事故者率（％）'])"
   ]
  },
  {
   "cell_type": "code",
   "execution_count": null,
   "metadata": {},
   "outputs": [],
   "source": [
    "#pandasの機能で統計量を計算してみる\n",
    "\n",
    "#平均値\n",
    "data['卒業者数（名）'].mean()"
   ]
  },
  {
   "cell_type": "code",
   "execution_count": null,
   "metadata": {},
   "outputs": [],
   "source": [
    "data['卒業者数（名）'].min()"
   ]
  },
  {
   "cell_type": "code",
   "execution_count": null,
   "metadata": {},
   "outputs": [],
   "source": [
    "data['卒業者数（名）'].max()"
   ]
  },
  {
   "cell_type": "code",
   "execution_count": null,
   "metadata": {},
   "outputs": [],
   "source": [
    "data['卒業者数（名）'].std() #標準偏差"
   ]
  },
  {
   "cell_type": "markdown",
   "metadata": {},
   "source": [
    "# 画像の読み込み"
   ]
  },
  {
   "cell_type": "code",
   "execution_count": null,
   "metadata": {},
   "outputs": [],
   "source": [
    "import matplotlib.image as mpimg"
   ]
  },
  {
   "cell_type": "code",
   "execution_count": null,
   "metadata": {},
   "outputs": [],
   "source": [
    "img = mpimg.imread('Lena.png')"
   ]
  },
  {
   "cell_type": "code",
   "execution_count": null,
   "metadata": {},
   "outputs": [],
   "source": [
    "plt.imshow(img)"
   ]
  },
  {
   "cell_type": "code",
   "execution_count": null,
   "metadata": {},
   "outputs": [],
   "source": [
    "img.shape#カラー画像なのでRGBの各チャネルがあり、3階テンソルになっている\n",
    "\n",
    "#ちなみにpythonの配列の向きは、(縦, 横, 深さ)"
   ]
  },
  {
   "cell_type": "code",
   "execution_count": null,
   "metadata": {},
   "outputs": [],
   "source": [
    "img[:, :, 0]"
   ]
  },
  {
   "cell_type": "code",
   "execution_count": null,
   "metadata": {},
   "outputs": [],
   "source": [
    "plt.imshow(img[:, :, 0], cmap='gray')"
   ]
  },
  {
   "cell_type": "code",
   "execution_count": null,
   "metadata": {},
   "outputs": [],
   "source": [
    "plt.imshow(img[:100, 250:, 0], cmap='gray')"
   ]
  },
  {
   "cell_type": "markdown",
   "metadata": {},
   "source": [
    "## 演習\n",
    " - 色々な関数のグラフを描画してみよう\n",
    " - 何かcsvファイルを探して読み込んで、統計量を求めたりグラフを描いたりしてみよう\n",
    " - 画像を読み込んで表示してみよう\n",
    "\n",
    "## チャレンジ\n",
    "- フラクタル図形とかカオスを計算してみると楽しい。ぜひやってみよう  \n",
    "https://qiita.com/jabberwocky0139/items/33add5b3725204ad377f\n",
    "- 画像処理で、グレースケール画像を2値化（白と黒のみ）するための「大津法」と呼ばれる有名なアルゴリズムがある。  \n",
    "簡単に実装できるので試してみよう。また、顕微鏡で画像を撮って2値化してみよう\n",
    "- 縞模様の幅を求めるために、ステレオロジー法というアルゴリズムがある。  \n",
    "簡単のため、縦か横に1列ずつスライスして縞模様の幅を求めてみよう"
   ]
  },
  {
   "cell_type": "code",
   "execution_count": null,
   "metadata": {},
   "outputs": [],
   "source": []
  }
 ],
 "metadata": {
  "kernelspec": {
   "display_name": "Python 3",
   "language": "python",
   "name": "python3"
  },
  "language_info": {
   "codemirror_mode": {
    "name": "ipython",
    "version": 3
   },
   "file_extension": ".py",
   "mimetype": "text/x-python",
   "name": "python",
   "nbconvert_exporter": "python",
   "pygments_lexer": "ipython3",
   "version": "3.6.0"
  }
 },
 "nbformat": 4,
 "nbformat_minor": 2
}
