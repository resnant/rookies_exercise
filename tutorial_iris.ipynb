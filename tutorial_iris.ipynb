{
 "cells": [
  {
   "cell_type": "code",
   "execution_count": null,
   "metadata": {},
   "outputs": [],
   "source": [
    "#グラフ描画ライブラリのインポート\n",
    "import matplotlib\n",
    "%matplotlib inline\n",
    "\n",
    "#数値処理ライブラリのインポート\n",
    "import numpy as np\n",
    "\n",
    "#データ処理用のライブラリをインポート\n",
    "import pandas as pd\n",
    "\n",
    "#機械学習用アルゴリズムをインポート\n",
    "import sklearn\n",
    "\n",
    "#irisのサンプルデータを返り値に持つ関数をインポート\n",
    "from sklearn.datasets import load_iris"
   ]
  },
  {
   "cell_type": "code",
   "execution_count": null,
   "metadata": {},
   "outputs": [],
   "source": [
    "#irisのサンプルデータを変数に代入\n",
    "iris_datasets = load_iris()"
   ]
  },
  {
   "cell_type": "code",
   "execution_count": null,
   "metadata": {},
   "outputs": [],
   "source": [
    "#キーの一覧\n",
    "iris_datasets.keys()"
   ]
  },
  {
   "cell_type": "code",
   "execution_count": null,
   "metadata": {},
   "outputs": [],
   "source": [
    "#含まれる特徴量\n",
    "iris_datasets['feature_names']"
   ]
  },
  {
   "cell_type": "code",
   "execution_count": null,
   "metadata": {},
   "outputs": [],
   "source": [
    "#数値データ\n",
    "iris_datasets['data']"
   ]
  },
  {
   "cell_type": "code",
   "execution_count": null,
   "metadata": {},
   "outputs": [],
   "source": [
    "#データの形\n",
    "print(iris_datasets['data'].shape)\n",
    "print('\\n150の花についての測定結果が含まれている。')"
   ]
  },
  {
   "cell_type": "code",
   "execution_count": null,
   "metadata": {},
   "outputs": [],
   "source": [
    "#150の花の品種\n",
    "print('target:\\n{}'.format(iris_datasets['target']))\n",
    "\n",
    "#数字と花の種類\n",
    "print('\\n0: {[0]}, 1: {[1]}, 2: {[2]}'.format(iris_datasets['target_names'], iris_datasets['target_names'], iris_datasets['target_names']))"
   ]
  },
  {
   "cell_type": "code",
   "execution_count": null,
   "metadata": {},
   "outputs": [],
   "source": [
    "#学習データとテストデータの分離（エラーを吐く様ならcross_validation->model_selectionに変更）\n",
    "from sklearn.cross_validation import train_test_split\n",
    "\n",
    "#データのシャッフル（ランダムシード固定）\n",
    "X_train, X_test, Y_train, Y_test = train_test_split(iris_datasets['data'], iris_datasets['target'], random_state=0)"
   ]
  },
  {
   "cell_type": "code",
   "execution_count": null,
   "metadata": {},
   "outputs": [],
   "source": [
    "#データの確認\n",
    "#特徴量同士の分布を見ることで分類が可能かどうかを考える。\n",
    "\n",
    "#DataFrameの作製\n",
    "iris_dataframe = pd.DataFrame(X_train, columns=iris_datasets.feature_names)\n",
    "\n",
    "grr = pd.plotting.scatter_matrix(iris_dataframe, c=Y_train, figsize=(15, 15), marker='o', hist_kwds={'bins':25}, s=30, alpha=.7)"
   ]
  },
  {
   "cell_type": "markdown",
   "metadata": {},
   "source": [
    "sepalのlength-widthではデータが入り混じっているため分類が困難に思える。\n",
    "\n",
    "それ以外の変数の組み合わせは直線的に分類が可能に見える。"
   ]
  },
  {
   "cell_type": "code",
   "execution_count": null,
   "metadata": {},
   "outputs": [],
   "source": [
    "#k-Nearest Neighborsを使った分類\n",
    "from sklearn.neighbors import KNeighborsClassifier\n",
    "\n",
    "#近傍点数1\n",
    "knn = KNeighborsClassifier(n_neighbors=1)"
   ]
  },
  {
   "cell_type": "code",
   "execution_count": null,
   "metadata": {},
   "outputs": [],
   "source": [
    "#モデルの学習\n",
    "knn.fit(X_train, Y_train)"
   ]
  },
  {
   "cell_type": "code",
   "execution_count": null,
   "metadata": {},
   "outputs": [],
   "source": [
    "#モデルの評価\n",
    "y_pred = knn.predict(X_test)\n",
    "\n",
    "print('テストセットの予測結果:\\n{}'.format(y_pred))"
   ]
  },
  {
   "cell_type": "code",
   "execution_count": null,
   "metadata": {},
   "outputs": [],
   "source": [
    "#予測精度\n",
    "print('test set score: {:.2f}'.format(np.mean(y_pred==Y_test)))\n",
    "print('test set score: {:.2f}'.format(knn.score(X_test, Y_test)))"
   ]
  },
  {
   "cell_type": "code",
   "execution_count": null,
   "metadata": {},
   "outputs": [],
   "source": []
  }
 ],
 "metadata": {
  "anaconda-cloud": {},
  "kernelspec": {
   "display_name": "Python 3",
   "language": "python",
   "name": "python3"
  },
  "language_info": {
   "codemirror_mode": {
    "name": "ipython",
    "version": 3
   },
   "file_extension": ".py",
   "mimetype": "text/x-python",
   "name": "python",
   "nbconvert_exporter": "python",
   "pygments_lexer": "ipython3",
   "version": "3.6.0"
  }
 },
 "nbformat": 4,
 "nbformat_minor": 2
}
